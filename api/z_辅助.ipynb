{
 "cells": [
  {
   "cell_type": "code",
   "execution_count": 1,
   "metadata": {},
   "outputs": [
    {
     "name": "stdout",
     "output_type": "stream",
     "text": [
      "dict_keys(['A1', 'A2', 'A3', '99', 'B1', 'B2', 'B3', 'B4', 'B5', 'B6', 'B7', 'C1', 'C2', 'C3', 'C4', 'D1', 'D2', 'D3', 'D4', 'E1', 'E2', 'E3', 'E4', 'E5', 'E6', 'E7', 'E8', 'E9', 'E10', 'E11', 'E12', 'E13', 'F1'])\n"
     ]
    }
   ],
   "source": [
    "rec_dict = {\"A1\":\"A1\",\"A2\":\"A2\",\"A3\":\"A3\",\"99\":\"99\"\n",
    "            ,\"B1\":\"B1\",\"B2\":\"B2\",\"B3\":\"B3\",\"B4\":\"B4\",\"B5\":\"B5\",\"B6\":\"B6\",\"B7\":\"B7\"\n",
    "            ,\"C1\":\"C1\",\"C2\":\"C2\",\"C3\":\"C3\",\"C4\":\"C4\"\n",
    "            ,\"D1\":\"D1\",\"D2\":\"D2\",\"D3\":\"D3\",\"D4\":\"D4\"\n",
    "            ,\"E1\":\"E1\",\"E2\":\"E2\",\"E3\":\"E3\",\"E4\":\"E4\",\"E5\":\"E5\",\"E6\":\"E6\",\"E7\":\"E7\",\"E8\":\"E8\",\"E9\":\"E9\",\"E10\":\"E10\",\"E11\":\"E11\",\"E12\":\"E12\",\"E13\":\"E13\"\n",
    "            ,\"F1\":\"F1\"}\n",
    "\n",
    "print(rec_dict.keys())\n"
   ]
  },
  {
   "cell_type": "code",
   "execution_count": null,
   "metadata": {},
   "outputs": [
    {
     "ename": "",
     "evalue": "",
     "output_type": "error",
     "traceback": [
      "\u001b[1;31mJupyter cannot be started. Error attempting to locate Jupyter: Running cells with 'Python 3.8.9 64-bit' requires jupyter and notebook package.\n",
      "\u001b[1;31mRun the following command to install 'jupyter and notebook' into the Python environment. \n",
      "\u001b[1;31mCommand: 'python -m pip install jupyter notebook -U\n",
      "\u001b[1;31mor\n",
      "\u001b[1;31mconda install jupyter notebook -U'\n",
      "\u001b[1;31mClick <a href='https://aka.ms/installJupyterForVSCode'>here</a> for more info."
     ]
    }
   ],
   "source": [
    "import psycopg2\n",
    "import pandas as pd\n",
    "\n",
    "\n",
    "def select():\n",
    "\n",
    "    # connect to the postgresql\n",
    "    db_host_id = \"127.0.0.1\"\n",
    "    db_name = \"jhu_cssa\"\n",
    "    db_pass = \"12345\"\n",
    "    db_owner = \"postgres\"\n",
    "    conn = psycopg2.connect(host=db_host_id,dbname=db_name, user=db_owner , password=db_pass)\n",
    "    # Creating a cursor object using the cursor() \n",
    "    # method\n",
    "    cursor = conn.cursor()\n",
    "    \n",
    "    # drop table accounts\n",
    "    sql = '''SELECT * FROM usres '''\n",
    "    \n",
    "    # Executing the query\n",
    "    cursor.execute(sql)\n",
    "    print(\"Table select !\")\n",
    "    result_1 = cursor.fetchall()\n",
    "    # set dataframe\n",
    "    df_1 = pd.DataFrame(result_1)\n",
    "    import time\n",
    "    rand = int(time.mktime(time.gmtime()))\n",
    "    df_1.to_excel(\"数据1/data_\"+str(rand)+\".xls\")\n",
    "\n",
    "    # Closing the connection\n",
    "    conn.close()\n",
    "\n",
    "\n",
    "\n",
    "select()\n"
   ]
  },
  {
   "cell_type": "code",
   "execution_count": null,
   "metadata": {},
   "outputs": [
    {
     "ename": "",
     "evalue": "",
     "output_type": "error",
     "traceback": [
      "\u001b[1;31mJupyter cannot be started. Error attempting to locate Jupyter: Running cells with 'Python 3.8.9 64-bit' requires jupyter and notebook package.\n",
      "\u001b[1;31mRun the following command to install 'jupyter and notebook' into the Python environment. \n",
      "\u001b[1;31mCommand: 'python -m pip install jupyter notebook -U\n",
      "\u001b[1;31mor\n",
      "\u001b[1;31mconda install jupyter notebook -U'\n",
      "\u001b[1;31mClick <a href='https://aka.ms/installJupyterForVSCode'>here</a> for more info."
     ]
    }
   ],
   "source": [
    "import time\n",
    "rand = int(time.mktime(time.gmtime()))"
   ]
  },
  {
   "cell_type": "code",
   "execution_count": null,
   "metadata": {},
   "outputs": [],
   "source": []
  }
 ],
 "metadata": {
  "kernelspec": {
   "display_name": "Python 3.8.9 64-bit",
   "language": "python",
   "name": "python3"
  },
  "language_info": {
   "codemirror_mode": {
    "name": "ipython",
    "version": 3
   },
   "file_extension": ".py",
   "mimetype": "text/x-python",
   "name": "python",
   "nbconvert_exporter": "python",
   "pygments_lexer": "ipython3",
   "version": "3.8.9"
  },
  "orig_nbformat": 4,
  "vscode": {
   "interpreter": {
    "hash": "31f2aee4e71d21fbe5cf8b01ff0e069b9275f58929596ceb00d14d90e3e16cd6"
   }
  }
 },
 "nbformat": 4,
 "nbformat_minor": 2
}
